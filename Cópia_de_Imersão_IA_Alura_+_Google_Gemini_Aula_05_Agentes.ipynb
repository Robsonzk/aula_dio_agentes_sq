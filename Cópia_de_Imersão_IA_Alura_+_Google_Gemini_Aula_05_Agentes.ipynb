{
  "nbformat": 4,
  "nbformat_minor": 0,
  "metadata": {
    "colab": {
      "provenance": [],
      "include_colab_link": true
    },
    "kernelspec": {
      "name": "python3",
      "display_name": "Python 3"
    },
    "language_info": {
      "name": "python"
    }
  },
  "cells": [
    {
      "cell_type": "markdown",
      "metadata": {
        "id": "view-in-github",
        "colab_type": "text"
      },
      "source": [
        "<a href=\"https://colab.research.google.com/github/Robsonzk/aula_dio_agentes_sq/blob/main/C%C3%B3pia_de_Imers%C3%A3o_IA_Alura_%2B_Google_Gemini_Aula_05_Agentes.ipynb\" target=\"_parent\"><img src=\"https://colab.research.google.com/assets/colab-badge.svg\" alt=\"Open In Colab\"/></a>"
      ]
    },
    {
      "cell_type": "code",
      "source": [
        "%pip -q install google-genai"
      ],
      "metadata": {
        "id": "UCCbECexLk_h"
      },
      "execution_count": null,
      "outputs": []
    },
    {
      "cell_type": "code",
      "source": [
        "# Configura a API Key do Google Gemini\n",
        "\n",
        "import os\n",
        "from google.colab import userdata\n",
        "\n",
        "os.environ[\"GOOGLE_API_KEY\"] = userdata.get('GOOGLE_API_KEY_1')"
      ],
      "metadata": {
        "id": "NfCqHo1tLk8P"
      },
      "execution_count": null,
      "outputs": []
    },
    {
      "cell_type": "code",
      "source": [
        "# Configura o cliente da SDK do Gemini\n",
        "\n",
        "from google import genai\n",
        "\n",
        "client = genai.Client()\n",
        "\n",
        "MODEL_ID = \"gemini-2.0-flash\""
      ],
      "metadata": {
        "id": "bV4w0H5TLk5g"
      },
      "execution_count": null,
      "outputs": []
    },
    {
      "cell_type": "code",
      "source": [
        "# Pergunta ao Gemini uma informação mais recente que seu conhecimento\n",
        "\n",
        "from IPython.display import HTML, Markdown\n",
        "\n",
        "# Perguntar pro modelo quando é a próxima imersão de IA ###############################################\n",
        "resposta = client.models.generate_content(\n",
        "    model=MODEL_ID,\n",
        "    contents='Quando é a próxima Imersão IA com Google Gemini da Alura?',\n",
        ")\n",
        "\n",
        "\n",
        "# Exibe a resposta na tela\n",
        "display(Markdown(f\"Resposta:\\n {resposta.text}\"))"
      ],
      "metadata": {
        "id": "HwVP7Xi34Zuw",
        "colab": {
          "base_uri": "https://localhost:8080/",
          "height": 163
        },
        "outputId": "ce23ba63-83c7-4324-b6ae-ebbf94b922b8"
      },
      "execution_count": null,
      "outputs": [
        {
          "output_type": "display_data",
          "data": {
            "text/plain": [
              "<IPython.core.display.Markdown object>"
            ],
            "text/markdown": "Resposta:\n A Alura não tem uma data fixa para a Imersão IA com Google Gemini. A melhor forma de saber quando a próxima edição será realizada é:\n\n*   **Acompanhar as redes sociais da Alura:** Fique de olho no Instagram, LinkedIn, Twitter e Facebook da Alura, pois eles costumam anunciar novos eventos e imersões por lá.\n*   **Assinar a newsletter da Alura:** Ao se inscrever na newsletter, você receberá informações sobre os próximos cursos, imersões e eventos.\n*   **Visitar a página de Imersões da Alura:** Verifique periodicamente a página de Imersões no site da Alura para ver se há alguma edição futura da Imersão IA com Google Gemini programada.\n\nVocê pode encontrar os links para as redes sociais e newsletter no site oficial da Alura: [https://www.alura.com.br/](https://www.alura.com.br/)"
          },
          "metadata": {}
        }
      ]
    },
    {
      "cell_type": "code",
      "source": [
        "# Pergunta ao Gemini uma informação utilizando a busca do Google como contexto\n",
        "\n",
        "resposta = client.models.generate_content(\n",
        "    model=MODEL_ID,\n",
        "    contents='Quando é a próxima Imersão IA com Google Gemini da Alura?',\n",
        "    # Inserir a tool de busca do Google ###############################################\n",
        "    config={\"tools\": [{\"google_search\": {}}]}\n",
        ")\n",
        "\n",
        "# Exibe a resposta na tela\n",
        "display(Markdown(f\"Resposta:\\n {resposta.text}\"))"
      ],
      "metadata": {
        "id": "yXaZd7iZ4ftw",
        "colab": {
          "base_uri": "https://localhost:8080/",
          "height": 64
        },
        "outputId": "3f50a462-ee3b-48f5-b763-d84246963351"
      },
      "execution_count": null,
      "outputs": [
        {
          "output_type": "display_data",
          "data": {
            "text/plain": [
              "<IPython.core.display.Markdown object>"
            ],
            "text/markdown": "Resposta:\n A próxima Imersão IA com Google Gemini da Alura já aconteceu entre os dias 12 e 16 de maio de 2025. As inscrições se encerraram no dia 11 de maio de 2025."
          },
          "metadata": {}
        }
      ]
    },
    {
      "cell_type": "code",
      "source": [
        "# Exibe a busca\n",
        "print(f\"Busca realizada: {resposta.candidates[0].grounding_metadata.web_search_queries}\")\n",
        "# Exibe as URLs nas quais ele se baseou\n",
        "print(f\"Páginas utilizadas na resposta: {', '.join([site.web.title for site in resposta.candidates[0].grounding_metadata.grounding_chunks])}\")\n",
        "print()\n",
        "display(HTML(resposta.candidates[0].grounding_metadata.search_entry_point.rendered_content))"
      ],
      "metadata": {
        "id": "xHSNlTd84heJ",
        "colab": {
          "base_uri": "https://localhost:8080/",
          "height": 117
        },
        "outputId": "962df1b9-8db9-428d-91d1-e954009729e0"
      },
      "execution_count": null,
      "outputs": [
        {
          "output_type": "stream",
          "name": "stdout",
          "text": [
            "Busca realizada: ['próxima imersão IA com Google Gemini Alura']\n",
            "Páginas utilizadas na resposta: starten.tech, alura.com.br\n",
            "\n"
          ]
        },
        {
          "output_type": "display_data",
          "data": {
            "text/plain": [
              "<IPython.core.display.HTML object>"
            ],
            "text/html": [
              "<style>\n",
              ".container {\n",
              "  align-items: center;\n",
              "  border-radius: 8px;\n",
              "  display: flex;\n",
              "  font-family: Google Sans, Roboto, sans-serif;\n",
              "  font-size: 14px;\n",
              "  line-height: 20px;\n",
              "  padding: 8px 12px;\n",
              "}\n",
              ".chip {\n",
              "  display: inline-block;\n",
              "  border: solid 1px;\n",
              "  border-radius: 16px;\n",
              "  min-width: 14px;\n",
              "  padding: 5px 16px;\n",
              "  text-align: center;\n",
              "  user-select: none;\n",
              "  margin: 0 8px;\n",
              "  -webkit-tap-highlight-color: transparent;\n",
              "}\n",
              ".carousel {\n",
              "  overflow: auto;\n",
              "  scrollbar-width: none;\n",
              "  white-space: nowrap;\n",
              "  margin-right: -12px;\n",
              "}\n",
              ".headline {\n",
              "  display: flex;\n",
              "  margin-right: 4px;\n",
              "}\n",
              ".gradient-container {\n",
              "  position: relative;\n",
              "}\n",
              ".gradient {\n",
              "  position: absolute;\n",
              "  transform: translate(3px, -9px);\n",
              "  height: 36px;\n",
              "  width: 9px;\n",
              "}\n",
              "@media (prefers-color-scheme: light) {\n",
              "  .container {\n",
              "    background-color: #fafafa;\n",
              "    box-shadow: 0 0 0 1px #0000000f;\n",
              "  }\n",
              "  .headline-label {\n",
              "    color: #1f1f1f;\n",
              "  }\n",
              "  .chip {\n",
              "    background-color: #ffffff;\n",
              "    border-color: #d2d2d2;\n",
              "    color: #5e5e5e;\n",
              "    text-decoration: none;\n",
              "  }\n",
              "  .chip:hover {\n",
              "    background-color: #f2f2f2;\n",
              "  }\n",
              "  .chip:focus {\n",
              "    background-color: #f2f2f2;\n",
              "  }\n",
              "  .chip:active {\n",
              "    background-color: #d8d8d8;\n",
              "    border-color: #b6b6b6;\n",
              "  }\n",
              "  .logo-dark {\n",
              "    display: none;\n",
              "  }\n",
              "  .gradient {\n",
              "    background: linear-gradient(90deg, #fafafa 15%, #fafafa00 100%);\n",
              "  }\n",
              "}\n",
              "@media (prefers-color-scheme: dark) {\n",
              "  .container {\n",
              "    background-color: #1f1f1f;\n",
              "    box-shadow: 0 0 0 1px #ffffff26;\n",
              "  }\n",
              "  .headline-label {\n",
              "    color: #fff;\n",
              "  }\n",
              "  .chip {\n",
              "    background-color: #2c2c2c;\n",
              "    border-color: #3c4043;\n",
              "    color: #fff;\n",
              "    text-decoration: none;\n",
              "  }\n",
              "  .chip:hover {\n",
              "    background-color: #353536;\n",
              "  }\n",
              "  .chip:focus {\n",
              "    background-color: #353536;\n",
              "  }\n",
              "  .chip:active {\n",
              "    background-color: #464849;\n",
              "    border-color: #53575b;\n",
              "  }\n",
              "  .logo-light {\n",
              "    display: none;\n",
              "  }\n",
              "  .gradient {\n",
              "    background: linear-gradient(90deg, #1f1f1f 15%, #1f1f1f00 100%);\n",
              "  }\n",
              "}\n",
              "</style>\n",
              "<div class=\"container\">\n",
              "  <div class=\"headline\">\n",
              "    <svg class=\"logo-light\" width=\"18\" height=\"18\" viewBox=\"9 9 35 35\" fill=\"none\" xmlns=\"http://www.w3.org/2000/svg\">\n",
              "      <path fill-rule=\"evenodd\" clip-rule=\"evenodd\" d=\"M42.8622 27.0064C42.8622 25.7839 42.7525 24.6084 42.5487 23.4799H26.3109V30.1568H35.5897C35.1821 32.3041 33.9596 34.1222 32.1258 35.3448V39.6864H37.7213C40.9814 36.677 42.8622 32.2571 42.8622 27.0064V27.0064Z\" fill=\"#4285F4\"/>\n",
              "      <path fill-rule=\"evenodd\" clip-rule=\"evenodd\" d=\"M26.3109 43.8555C30.9659 43.8555 34.8687 42.3195 37.7213 39.6863L32.1258 35.3447C30.5898 36.3792 28.6306 37.0061 26.3109 37.0061C21.8282 37.0061 18.0195 33.9811 16.6559 29.906H10.9194V34.3573C13.7563 39.9841 19.5712 43.8555 26.3109 43.8555V43.8555Z\" fill=\"#34A853\"/>\n",
              "      <path fill-rule=\"evenodd\" clip-rule=\"evenodd\" d=\"M16.6559 29.8904C16.3111 28.8559 16.1074 27.7588 16.1074 26.6146C16.1074 25.4704 16.3111 24.3733 16.6559 23.3388V18.8875H10.9194C9.74388 21.2072 9.06992 23.8247 9.06992 26.6146C9.06992 29.4045 9.74388 32.022 10.9194 34.3417L15.3864 30.8621L16.6559 29.8904V29.8904Z\" fill=\"#FBBC05\"/>\n",
              "      <path fill-rule=\"evenodd\" clip-rule=\"evenodd\" d=\"M26.3109 16.2386C28.85 16.2386 31.107 17.1164 32.9095 18.8091L37.8466 13.8719C34.853 11.082 30.9659 9.3736 26.3109 9.3736C19.5712 9.3736 13.7563 13.245 10.9194 18.8875L16.6559 23.3388C18.0195 19.2636 21.8282 16.2386 26.3109 16.2386V16.2386Z\" fill=\"#EA4335\"/>\n",
              "    </svg>\n",
              "    <svg class=\"logo-dark\" width=\"18\" height=\"18\" viewBox=\"0 0 48 48\" xmlns=\"http://www.w3.org/2000/svg\">\n",
              "      <circle cx=\"24\" cy=\"23\" fill=\"#FFF\" r=\"22\"/>\n",
              "      <path d=\"M33.76 34.26c2.75-2.56 4.49-6.37 4.49-11.26 0-.89-.08-1.84-.29-3H24.01v5.99h8.03c-.4 2.02-1.5 3.56-3.07 4.56v.75l3.91 2.97h.88z\" fill=\"#4285F4\"/>\n",
              "      <path d=\"M15.58 25.77A8.845 8.845 0 0 0 24 31.86c1.92 0 3.62-.46 4.97-1.31l4.79 3.71C31.14 36.7 27.65 38 24 38c-5.93 0-11.01-3.4-13.45-8.36l.17-1.01 4.06-2.85h.8z\" fill=\"#34A853\"/>\n",
              "      <path d=\"M15.59 20.21a8.864 8.864 0 0 0 0 5.58l-5.03 3.86c-.98-2-1.53-4.25-1.53-6.64 0-2.39.55-4.64 1.53-6.64l1-.22 3.81 2.98.22 1.08z\" fill=\"#FBBC05\"/>\n",
              "      <path d=\"M24 14.14c2.11 0 4.02.75 5.52 1.98l4.36-4.36C31.22 9.43 27.81 8 24 8c-5.93 0-11.01 3.4-13.45 8.36l5.03 3.85A8.86 8.86 0 0 1 24 14.14z\" fill=\"#EA4335\"/>\n",
              "    </svg>\n",
              "    <div class=\"gradient-container\"><div class=\"gradient\"></div></div>\n",
              "  </div>\n",
              "  <div class=\"carousel\">\n",
              "    <a class=\"chip\" href=\"https://vertexaisearch.cloud.google.com/grounding-api-redirect/AbF9wXHPOx72JGOCJpZDbYePxKIGBIWuHON_soMXfxY_p5X75J4VB8OHyHm3trJ6rYsG6mIdJo-1fUzfkYwNiz60mnmmdg2kiM-gOz2FC5Ow-zp7WUk40e_EEyw--o-mJSxwQ4IFRGE4IJaufW-nui_teGzdRNxyCwl8ccCsy1jE317SKBhOKdqaNkDurvYwsBDPSKg3p-zorEE96ROENKxk0X4h8Lyj0yHkRoTNFROxx6ll-o-cc7ys5Q==\">próxima imersão IA com Google Gemini Alura</a>\n",
              "  </div>\n",
              "</div>\n"
            ]
          },
          "metadata": {}
        }
      ]
    },
    {
      "cell_type": "code",
      "source": [
        "# Instalar Framework ADK de agentes do Google ################################################\n",
        "!pip install -q google-adk\n"
      ],
      "metadata": {
        "id": "hvZ3UnPI4jhJ"
      },
      "execution_count": null,
      "outputs": []
    },
    {
      "cell_type": "code",
      "execution_count": null,
      "metadata": {
        "id": "aePV2bdfDeoW"
      },
      "outputs": [],
      "source": [
        "from google.adk.agents import Agent\n",
        "from google.adk.runners import Runner\n",
        "from google.adk.sessions import InMemorySessionService\n",
        "from google.adk.tools import google_search\n",
        "from google.genai import types  # Para criar conteúdos (Content e Part)\n",
        "from datetime import date\n",
        "import textwrap # Para formatar melhor a saída de texto\n",
        "from IPython.display import display, Markdown # Para exibir texto formatado no Colab\n",
        "import requests # Para fazer requisições HTTP\n",
        "import warnings\n",
        "\n",
        "warnings.filterwarnings(\"ignore\")"
      ]
    },
    {
      "cell_type": "code",
      "source": [
        "# Função auxiliar que envia uma mensagem para um agente via Runner e retorna a resposta final\n",
        "def call_agent(agent: Agent, message_text: str) -> str:\n",
        "    # Cria um serviço de sessão em memória\n",
        "    session_service = InMemorySessionService()\n",
        "    # Cria uma nova sessão (você pode personalizar os IDs conforme necessário)\n",
        "    session = session_service.create_session(app_name=agent.name, user_id=\"user1\", session_id=\"session1\")\n",
        "    # Cria um Runner para o agente\n",
        "    runner = Runner(agent=agent, app_name=agent.name, session_service=session_service)\n",
        "    # Cria o conteúdo da mensagem de entrada\n",
        "    content = types.Content(role=\"user\", parts=[types.Part(text=message_text)])\n",
        "\n",
        "    final_response = \"\"\n",
        "    # Itera assincronamente pelos eventos retornados durante a execução do agente\n",
        "    for event in runner.run(user_id=\"user1\", session_id=\"session1\", new_message=content):\n",
        "        if event.is_final_response():\n",
        "          for part in event.content.parts:\n",
        "            if part.text is not None:\n",
        "              final_response += part.text\n",
        "              final_response += \"\\n\"\n",
        "    return final_response"
      ],
      "metadata": {
        "id": "_xP4lWhsS5ko"
      },
      "execution_count": null,
      "outputs": []
    },
    {
      "cell_type": "code",
      "source": [
        "# Função auxiliar para exibir texto formatado em Markdown no Colab\n",
        "def to_markdown(text):\n",
        "  text = text.replace('•', '  *')\n",
        "  return Markdown(textwrap.indent(text, '> ', predicate=lambda _: True))"
      ],
      "metadata": {
        "id": "8dosiodaxfFR"
      },
      "execution_count": null,
      "outputs": []
    },
    {
      "cell_type": "code",
      "source": [
        "##########################################\n",
        "# --- Agente 1: Buscador de Notícias --- #\n",
        "##########################################\n",
        "\n",
        "def agente_buscador(topico, data_de_hoje):\n",
        "  buscador = Agent(\n",
        "      name=\"agente_buscador_de_noticias\",\n",
        "      model=\"gemini-2.0-flash\",\n",
        "      instruction=\"\"\"\n",
        "      Você é um agente que busca notícias sobre tecnologia no Google. A sua terefa é usar a ferramenta de pesquisa do (google_search)\n",
        "      para recuperar as últimas noticias de laçamentos relevantes sobre tecnologia.\n",
        "      Foque em no máximo 10 noticiais relevantes, com base na quantidade de entusiasmo relevantes sobre elas.\n",
        "      Se o tema tiver poucas notícias ou reações intusiasmada, é possivel que ela não seja tão relevante assim como você acha\n",
        "      e pode ser subistituida por outra que seja mais relevante.\n",
        "      Esses lançamentos devem ser atuais de no máximo 30 dias antes da data de hoje.\n",
        "      \"\"\",\n",
        "      description=\"Agente que busca notícias no google sobre o tecnologia\",\n",
        "      tools=[google_search]\n",
        "\n",
        "  )\n",
        "\n",
        "  entrada_do_agente_buscador = f\"Tópico: {topico}\\nData de hoje: {data_de_hoje}\"\n",
        "  lancamentos_buscados = call_agent(buscador, entrada_do_agente_buscador)\n",
        "\n",
        "  return lancamentos_buscados\n",
        "  # Executa o agente"
      ],
      "metadata": {
        "id": "o8bqIfi_DyH8"
      },
      "execution_count": null,
      "outputs": []
    },
    {
      "cell_type": "code",
      "source": [
        "################################################\n",
        "# --- Agente 2: Planejador de posts de tecnologias para sites --- #\n",
        "################################################\n",
        "def agente_planejador(topico, lancamentos_buscados):\n",
        "    planejador = Agent(\n",
        "        name=\"agente_planejador\",\n",
        "        model=\"gemini-2.0-flash\",\n",
        "        # Inserir as instruções do Agente Planejador #################################################\n",
        "        instruction=\"\"\"\n",
        "        Você é um planejador de post, especialista de sites de tecnologia. Com base na lista de lançamentos mais recentes e relevantes buscados, você deve: usar a ferramenta de busca do Google (google_search) para criar um plano sobre\n",
        "        quais são os pontos mais relevantes que poderiamos abordar em um post sobre cada um deles. Você também pode usar o (google_serch) para encontrar mais\n",
        "        informações sobre o tema e aprofundar.\n",
        "        Ao final, você irá escolher o tema mais relevante entre elas com base em suas pesquisas\n",
        "        e retonar esse tema, seus pontos mais relevantes, e um plano com os assuntos a serem abordados no post que será escrito posteriormente.\n",
        "        \"\"\",\n",
        "        description=\"Agente que planeja posts de tecnologia para sites\",\n",
        "        tools=[google_search]\n",
        "    )\n",
        "\n",
        "    entrada_do_agente_planejador = f\"Tópico:{topico}\\nLançamentos buscados: {lancamentos_buscados}\"\n",
        "    # Executa o agente\n",
        "    plano_do_post = call_agent(planejador, entrada_do_agente_planejador)\n",
        "    return plano_do_post"
      ],
      "metadata": {
        "id": "y3VO1uo5_ghO"
      },
      "execution_count": null,
      "outputs": []
    },
    {
      "cell_type": "code",
      "source": [
        "######################################\n",
        "# --- Agente 3: Redator do Post --- #\n",
        "######################################\n",
        "def agente_redator(topico, plano_de_post):\n",
        "    redator = Agent(\n",
        "        name=\"agente_redator_de_site_de_tecnologia\",\n",
        "        model=\"gemini-2.0-flash\",\n",
        "        instruction=\"\"\"\n",
        "            Você é um Redator Criativo especializado em criar posts virais para sites.\n",
        "            Você escreve posts para a empresa Alura, a maior escola online de tecnologia do Brasil.\n",
        "            Utilize o tema fornecido no plano de post e os pontos mais relevantes fornecidos e, com base nisso,\n",
        "            escreva um rascunho de post para Site sobre o tema indicado.\n",
        "            O post deve ser engajador, informativo, com linguagem simples e incluir 2 a 4 hashtags no final.\n",
        "            \"\"\",\n",
        "        description=\"Agente redator de posts engajadores para Sites\"\n",
        "    )\n",
        "    entrada_do_agente_redator = f\"Tópico: {topico}\\nPlano de post: {plano_de_post}\"\n",
        "    # Executa o agente\n",
        "    rascunho = call_agent(redator, entrada_do_agente_redator)\n",
        "    return rascunho"
      ],
      "metadata": {
        "id": "uOqlg2TRLVh1"
      },
      "execution_count": null,
      "outputs": []
    },
    {
      "cell_type": "code",
      "source": [
        "##########################################\n",
        "# --- Agente 4: Revisor de Qualidade --- #\n",
        "##########################################\n",
        "def agente_revisor(topico, rascunho_gerado):\n",
        "    revisor = Agent(\n",
        "        name=\"agente_revisor\",\n",
        "        model=\"gemini-2.0-flash\",\n",
        "        instruction=\"\"\"\n",
        "            Você é um Editor e Revisor de Conteúdo meticuloso, especializado em posts para Sites, com foco em tecnologia.\n",
        "            Por ter um público jovem, entre 0 e 90 anos, use um tom de escrita adequado.\n",
        "            Revise o rascunho de post de Instagram abaixo sobre o tópico indicado, verificando clareza, concisão, correção e tom.\n",
        "            Se o rascunho estiver bom, responda apenas 'O rascunho está ótimo e pronto para publicar!'.\n",
        "            Caso haja problemas, aponte-os e sugira melhorias.\n",
        "            \"\"\",\n",
        "        description=\"Agente revisor de post para sites.\"\n",
        "    )\n",
        "    entrada_do_agente_revisor = f\"Tópico: {topico}\\nRascunho: {rascunho_gerado}\"\n",
        "    # Executa o agente\n",
        "    texto_revisado = call_agent(revisor, entrada_do_agente_revisor)\n",
        "    return texto_revisado"
      ],
      "metadata": {
        "id": "_aTb1SdkLeT6"
      },
      "execution_count": null,
      "outputs": []
    },
    {
      "cell_type": "code",
      "source": [
        "data_de_hoje = date.today().strftime(\"%d/%m/%Y\")\n",
        "\n",
        "print(\"🚀 Iniciando o Sistema de Criação de Posts para Sites com 4 Agentes 🚀\")\n",
        "\n",
        "# --- Obter o Tópico do Usuário ---\n",
        "topico = input(\"❓ Por favor, digite o TÓPICO sobre o qual você quer criar o post de tendências de tecnologia: \")\n",
        "\n",
        "# Inserir lógica do sistema de agentes ################################################\n",
        "\n",
        "if not topico:\n",
        "  print(\"Você esqueceu de digitar o tópico!\")\n",
        "else:\n",
        "  print(f\"Maravilha! Vamos criar o post sobre novidades em {topico}\")\n",
        "\n",
        "  lancamentos_buscados = agente_buscador(topico, data_de_hoje)\n",
        "  print(\"\\n--- Resultado Agente 1  (Buscador)  ---\\n\")\n",
        "  display(to_markdown(lancamentos_buscados))\n",
        "  print(\"------------------------------------------------------------\")\n",
        "\n",
        "  plano_de_post = agente_planejador(topico, lancamentos_buscados)\n",
        "  print(\"\\n--- Resultado Agente 2  (Planejador)  ---\\n\")\n",
        "  display(to_markdown(text=plano_de_post))\n",
        "  print(\"------------------------------------------------------------\")\n",
        "\n",
        "  rascunho_de_post = agente_redator(topico, plano_de_post)\n",
        "  print(\"\\n--- Resultado Agente 3  (Redator)  ---\\n\")\n",
        "  display(to_markdown(text=rascunho_de_post))\n",
        "  print(\"------------------------------------------------------------\")\n",
        "\n",
        "  post_final = agente_revisor(topico, rascunho_de_post)\n",
        "  print(\"\\n--- Resultado Agente 4  (Revisor)  ---\\n\")\n",
        "  display(to_markdown(text=post_final))\n",
        "  print(\"------------------------------------------------------------\")\n"
      ],
      "metadata": {
        "id": "630ummxz4myx",
        "colab": {
          "base_uri": "https://localhost:8080/",
          "height": 1000
        },
        "outputId": "55caaa7e-35b8-4522-ee42-8b654a0c6f42"
      },
      "execution_count": null,
      "outputs": [
        {
          "output_type": "stream",
          "name": "stdout",
          "text": [
            "🚀 Iniciando o Sistema de Criação de Posts para Sites com 4 Agentes 🚀\n",
            "❓ Por favor, digite o TÓPICO sobre o qual você quer criar o post de tendências de tecnologia: agentes e IA\n",
            "Maravilha! Vamos criar o post sobre novidades em agentes e IA\n",
            "\n",
            "--- Resultado Agente 1  (Buscador)  ---\n",
            "\n"
          ]
        },
        {
          "output_type": "display_data",
          "data": {
            "text/plain": [
              "<IPython.core.display.Markdown object>"
            ],
            "text/markdown": "> Para encontrar as notícias mais relevantes sobre agentes e IA nos últimos 30 dias, vou realizar algumas pesquisas no Google.\n> \n> \n> Com base nas notícias encontradas, aqui estão alguns dos lançamentos e tendências mais relevantes sobre agentes e IA nos últimos 30 dias:\n> \n> 1.  **Crescimento e Adoção de Agentes de IA:**\n> \n> *   O mercado global de agentes de IA deverá atingir US$ 52,62 bilhões até 2030. (Fonte: Mercado de agentes de IA deverá crescer para 52,6 mil milhões de dólares até 2030)\n> *   25% das empresas adotarão agentes inteligentes em 2025, com projeções de aumento para 50% até 2027 e 80% até 2026. (Fonte: Avanço da IA: 25% das empresas adotarão agentes inteligentes em 2025)\n> *   Empresas estão investindo fortemente no aprimoramento desses sistemas, tornando-os mais personalizados e eficientes. (Fonte: 2025: o ano que os agentes de inteligência artificial saem dos bastidores)\n> *   A crescente necessidade de automação eficiente e decisões mais rápidas está impulsionando a adoção de agentes de IA. (Fonte: Mercado de agentes de IA deverá crescer para 52,6 mil milhões de dólares até 2030)\n> \n> 2.  **Aplicações e Impacto nas Empresas:**\n> \n> *   Agentes de IA estão sendo implementados em setores como e-commerce, atendimento ao cliente, marketing e finanças. (Fonte: 2025: o ano que os agentes de inteligência artificial saem dos bastidores)\n> *   Esses agentes não apenas respondem a perguntas, mas também analisam dados e sugerem soluções em tempo real. (Fonte: 2025: o ano que os agentes de inteligência artificial saem dos bastidores)\n> *   A adoção de agentes de IA transforma a gestão de processos, simplificando tarefas e otimizando recursos. (Fonte: Adoção de Agentes de IA nas Empresas Transforma Gestão de Processos em 2025)\n> *   Empresas que implementaram agentes de IA relatam melhorias significativas nas operações, com funcionários experimentando um aumento de mais de 60% na eficiência. (Fonte: 10 melhores agentes de IA para automação de negócios (2025))\n> \n> 3.  **Tecnologias e Inovações:**\n> \n> *   A IBM está inovando com agentes especializados e expandindo as capacidades de integração e customização do watsonx Orchestrate. (Fonte: Adoção de Agentes de IA nas Empresas Transforma Gestão de Processos em 2025)\n> *   A OpenAI está se destacando no mercado corporativo com um aumento significativo nas assinaturas de seus modelos e ferramentas de IA. (Fonte: Adoção de Agentes de IA nas Empresas Transforma Gestão de Processos em 2025)\n> *   A funcionalidade de agentes personalizados lançada pela OpenAI permite que organizações treinem soluções de IA para atender demandas específicas. (Fonte: Agentes de Inteligência Artificial: Transformação 2025)\n> \n> 4.  **Desafios e Reflexões:**\n> \n> *   Há debates sobre o que realmente define um \"agente de IA\", com alguns especialistas argumentando que eles não são muito mais do que LLMs com capacidade de raciocínio e execução em múltiplos passos. (Fonte: Ningúém sabe o que são agentes de IA, dizem sócios da a16z)\n> *   Especialistas enfatizam que os agentes de IA de hoje podem tomar decisões e agir, mas ainda não são capazes de substituir completamente um humano em muitos trabalhos que exigem criatividade e pensamento. (Fonte: Ningúém sabe o que são agentes de IA, dizem sócios da a16z)\n> \n> 5.  **O Futuro dos Agentes de IA:**\n> \n> *   A IA generativa está evoluindo para agentes inteligentes autônomos com capacidade de tomar decisões. (Fonte: Futuro da IA: Agentes Inteligentes com Arquiteturas Orientadas a Eventos)\n> *   A Arquitetura Orientada a Eventos (EDA) emerge como uma solução essencial para criar sistemas de IA escaláveis, permitindo que agentes operem como microserviços inteligentes que se comunicam assincronamente. (Fonte: Futuro da IA: Agentes Inteligentes com Arquiteturas Orientadas a Eventos)\n> \n> Essas notícias indicam que os agentes de IA estão se tornando cada vez mais importantes no cenário tecnológico e empresarial, com um potencial significativo para transformar a forma como as empresas operam e interagem com seus clientes.\n> \n"
          },
          "metadata": {}
        },
        {
          "output_type": "stream",
          "name": "stdout",
          "text": [
            "------------------------------------------------------------\n",
            "\n",
            "--- Resultado Agente 2  (Planejador)  ---\n",
            "\n"
          ]
        },
        {
          "output_type": "display_data",
          "data": {
            "text/plain": [
              "<IPython.core.display.Markdown object>"
            ],
            "text/markdown": "> Com base nos lançamentos e tendências que você coletou sobre agentes de IA, podemos elaborar um plano de conteúdo focado no impacto e nas aplicações práticas dessa tecnologia em ascensão.\n> \n> Para aprofundar a pesquisa, podemos usar as seguintes pesquisas no Google:\n> \n> \n> ## Tema Mais Relevante: Adoção e Impacto dos Agentes de IA nas Empresas\n> \n> **Justificativa:** Este tema é o mais abrangente e de maior interesse para o público empresarial. Ele permite explorar tanto o crescimento do mercado quanto os benefícios práticos e desafios da implementação de agentes de IA.\n> \n> **Pontos Mais Relevantes:**\n> \n> *   **Crescimento e Adoção:**\n>     *   Aumento significativo do mercado global de agentes de IA.\n>     *   Projeções de adoção em larga escala pelas empresas nos próximos anos.\n>     *   Investimentos contínuos para aprimorar a personalização e eficiência dos agentes.\n> *   **Aplicações e Impacto:**\n>     *   Exemplos de uso em diversos setores: e-commerce, atendimento ao cliente, finanças, etc.\n>     *   Agentes de IA como ferramentas de análise de dados e tomada de decisão em tempo real.\n>     *   Transformação na gestão de processos, otimização de recursos e aumento da eficiência.\n>     *   Melhorias significativas nas operações e aumento da eficiência dos funcionários.\n> *   **Desafios e Reflexões:**\n>     *   Debates sobre a definição exata de \"agente de IA\".\n>     *   Limitações atuais dos agentes de IA em relação à criatividade e pensamento humano.\n> \n> ## Plano de Conteúdo Detalhado:\n> \n> **Título:** Agentes de IA: Como estão Transformando as Empresas em 2025\n> \n> **Objetivo:** Informar o público sobre o crescimento, aplicações, impacto e desafios dos agentes de IA no ambiente empresarial atual.\n> \n> **Público-Alvo:** Gestores, líderes de TI, tomadores de decisão e profissionais interessados em inovação e automação de processos.\n> \n> **Estrutura do Post:**\n> \n> 1.  **Introdução:**\n>     *   Contextualizar o rápido avanço da IA e o surgimento dos agentes de IA.\n>     *   Apresentar o tema central e a relevância dos agentes de IA para as empresas.\n>     *   Destacar o potencial transformador dessa tecnologia.\n> 2.  **O Crescimento Exponencial dos Agentes de IA:**\n>     *   Estatísticas sobre o crescimento do mercado global de agentes de IA.\n>     *   Projeções de adoção em larga escala pelas empresas nos próximos anos (2025-2027).\n>     *   Fatores que impulsionam esse crescimento: automação, eficiência, decisões rápidas.\n> 3.  **Aplicações Práticas dos Agentes de IA nas Empresas:**\n>     *   Setores que estão liderando a adoção: e-commerce, atendimento ao cliente, marketing, finanças.\n>     *   Exemplos de uso em diferentes áreas:\n>         *   Atendimento ao cliente: chatbots avançados, suporte técnico automatizado.\n>         *   Marketing: personalização de campanhas, análise de dados de clientes.\n>         *   Finanças: análise de risco, detecção de fraudes, otimização de investimentos.\n>         *   E-commerce: recomendação de produtos, otimização de preços, gerenciamento de estoque.\n>     *   Como os agentes de IA estão simplificando tarefas e otimizando recursos.\n> 4.  **Impacto nos Resultados e na Eficiência Operacional:**\n>     *   Melhorias significativas nas operações e aumento da eficiência dos funcionários.\n>     *   Dados sobre o aumento da eficiência em empresas que implementaram agentes de IA.\n>     *   Como os agentes de IA estão transformando a gestão de processos.\n>     *   Estudos de caso de empresas que obtiveram sucesso com a implementação de agentes de IA.\n> 5.  **Desafios e Reflexões:**\n>     *   Debates sobre a definição exata de \"agente de IA\".\n>     *   Argumentos de especialistas sobre as capacidades e limitações dos agentes de IA.\n>     *   Discussão sobre o papel dos agentes de IA em relação ao trabalho humano.\n>     *   Considerações éticas e de segurança ao implementar agentes de IA.\n> 6.  **O Futuro dos Agentes de IA:**\n>     *   Tendências e inovações em desenvolvimento: IA generativa, agentes autônomos.\n>     *   Arquitetura Orientada a Eventos (EDA) como solução para sistemas de IA escaláveis.\n>     *   Previsões sobre o impacto dos agentes de IA nos próximos anos.\n> 7.  **Conclusão:**\n>     *   Recapitular os principais pontos abordados no post.\n>     *   Reforçar a importância dos agentes de IA para as empresas em 2025.\n>     *   Incentivar os leitores a explorar e implementar essa tecnologia em seus negócios.\n>     *   Deixar uma mensagem final sobre o futuro promissor dos agentes de IA.\n> \n> Este plano detalhado fornecerá uma base sólida para criar um post informativo e envolvente sobre o impacto dos agentes de IA nas empresas em 2025.\n> \n"
          },
          "metadata": {}
        },
        {
          "output_type": "stream",
          "name": "stdout",
          "text": [
            "------------------------------------------------------------\n",
            "\n",
            "--- Resultado Agente 3  (Redator)  ---\n",
            "\n"
          ]
        },
        {
          "output_type": "display_data",
          "data": {
            "text/plain": [
              "<IPython.core.display.Markdown object>"
            ],
            "text/markdown": "> ## Agentes de IA: Como estão Transformando as Empresas em 2025\n> \n> A Inteligência Artificial (IA) não para de evoluir, e uma das áreas que mais tem chamado a atenção é a dos **agentes de IA**. Mas o que são exatamente e como estão impactando o mundo dos negócios? Prepare-se para descobrir como essa tecnologia está remodelando o futuro das empresas!\n> \n> ### O Crescimento Exponencial dos Agentes de IA\n> \n> O mercado global de agentes de IA está em franca expansão, com projeções de adoção em larga escala pelas empresas nos próximos anos. Esse crescimento é impulsionado pela necessidade de **automatização**, **eficiência** e **tomada de decisões rápidas**. As empresas estão investindo cada vez mais em soluções que utilizam agentes de IA para otimizar processos e melhorar seus resultados.\n> \n> ### Aplicações Práticas dos Agentes de IA nas Empresas\n> \n> Os agentes de IA estão sendo aplicados em diversos setores, como **e-commerce**, **atendimento ao cliente**, **marketing** e **finanças**. Veja alguns exemplos práticos:\n> \n> *   **Atendimento ao Cliente:** Chatbots avançados que oferecem suporte técnico automatizado e resolvem dúvidas dos clientes de forma eficiente.\n> *   **Marketing:** Personalização de campanhas com base na análise de dados dos clientes, aumentando a taxa de conversão e a fidelização.\n> *   **Finanças:** Análise de risco, detecção de fraudes e otimização de investimentos, garantindo a segurança e a rentabilidade das operações.\n> *   **E-commerce:** Recomendação de produtos, otimização de preços e gerenciamento de estoque, melhorando a experiência do cliente e aumentando as vendas.\n> \n> Esses agentes estão simplificando tarefas, otimizando recursos e liberando os colaboradores para atividades mais estratégicas.\n> \n> ### Impacto nos Resultados e na Eficiência Operacional\n> \n> A implementação de agentes de IA tem gerado melhorias significativas nas operações e aumentado a eficiência dos funcionários. Empresas que adotaram essa tecnologia relatam um aumento expressivo na produtividade e uma redução de custos operacionais. A gestão de processos também tem sido transformada, tornando-se mais ágil e eficiente.\n> \n> ### Desafios e Reflexões\n> \n> Apesar de todo o potencial, ainda existem debates sobre a definição exata de \"agente de IA\" e discussões sobre suas capacidades e limitações. É importante lembrar que, embora os agentes de IA sejam capazes de realizar tarefas complexas, eles ainda não possuem a criatividade e o pensamento crítico dos seres humanos.\n> \n> Além disso, é fundamental considerar as questões éticas e de segurança ao implementar agentes de IA, garantindo que sejam utilizados de forma responsável e transparente.\n> \n> ### O Futuro dos Agentes de IA\n> \n> O futuro dos agentes de IA é promissor, com tendências e inovações em desenvolvimento, como a IA generativa e os agentes autônomos. A Arquitetura Orientada a Eventos (EDA) surge como uma solução para criar sistemas de IA escaláveis e adaptáveis. Nos próximos anos, os agentes de IA devem se tornar ainda mais inteligentes e integrados ao nosso dia a dia.\n> \n> ### Conclusão\n> \n> Os agentes de IA estão transformando as empresas em 2025, impulsionando a inovação e a eficiência. Se você busca se destacar no mercado, é fundamental explorar e implementar essa tecnologia em seus negócios. O futuro é agora, e os agentes de IA são a chave para o sucesso!\n> \n> #InteligenciaArtificial #AgentesDeIA #Inovacao #Tecnologia\n> \n"
          },
          "metadata": {}
        },
        {
          "output_type": "stream",
          "name": "stdout",
          "text": [
            "------------------------------------------------------------\n",
            "\n",
            "--- Resultado Agente 4  (Revisor)  ---\n",
            "\n"
          ]
        },
        {
          "output_type": "display_data",
          "data": {
            "text/plain": [
              "<IPython.core.display.Markdown object>"
            ],
            "text/markdown": "> O rascunho está ótimo e pronto para publicar!\n"
          },
          "metadata": {}
        },
        {
          "output_type": "stream",
          "name": "stdout",
          "text": [
            "------------------------------------------------------------\n"
          ]
        }
      ]
    }
  ]
}